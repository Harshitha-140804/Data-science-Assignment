{
 "cells": [
  {
   "cell_type": "code",
   "execution_count": 1,
   "metadata": {},
   "outputs": [
    {
     "name": "stdout",
     "output_type": "stream",
     "text": [
      "Lookalike results saved to C:\\Users\\Harshitha\\Pictures\\Screenshots\\Data science Assignment\\Lookalike.csv\n"
     ]
    }
   ],
   "source": [
    "import pandas as pd\n",
    "from sklearn.preprocessing import StandardScaler\n",
    "from sklearn.metrics.pairwise import cosine_similarity\n",
    "\n",
    "# Load datasets\n",
    "customers = pd.read_csv(r\"C:\\Users\\Harshitha\\Pictures\\Screenshots\\Data science Assignment\\Customers.csv\")\n",
    "transactions = pd.read_csv(r\"C:\\Users\\Harshitha\\Pictures\\Screenshots\\Data science Assignment\\Transactions.csv\")\n",
    "products = pd.read_csv(r\"C:\\Users\\Harshitha\\Pictures\\Screenshots\\Data science Assignment\\Products.csv\")\n",
    "\n",
    "# Merge datasets\n",
    "transactions_customers = transactions.merge(customers, on='CustomerID', how='left')\n",
    "full_data = transactions_customers.merge(products, on='ProductID', how='left')\n",
    "\n",
    "# Aggregate features for similarity calculation\n",
    "customer_features = full_data.groupby('CustomerID').agg(\n",
    "    TotalTransactions=('TransactionID', 'count'),\n",
    "    TotalQuantity=('Quantity', 'sum'),\n",
    "    TotalSpent=('TotalValue', 'sum'),\n",
    "    DistinctProducts=('ProductID', 'nunique'),\n",
    "    AvgSpentPerTransaction=('TotalValue', 'mean')\n",
    ").reset_index()\n",
    "\n",
    "# Scale features for similarity calculation\n",
    "scaler = StandardScaler()\n",
    "scaled_features = scaler.fit_transform(customer_features.iloc[:, 1:])  # Exclude CustomerID for scaling\n",
    "\n",
    "# Compute cosine similarity\n",
    "similarity_matrix = cosine_similarity(scaled_features)\n",
    "\n",
    "# Create a DataFrame for similarity scores\n",
    "similarity_df = pd.DataFrame(similarity_matrix, index=customer_features['CustomerID'], columns=customer_features['CustomerID'])\n",
    "\n",
    "# Find top 3 similar customers for each target customer\n",
    "lookalike_results = {}\n",
    "\n",
    "for customer_id in similarity_df.index[:20]:  # Only for the first 20 customers (C0001 to C0020)\n",
    "    similar_customers = similarity_df[customer_id].sort_values(ascending=False).iloc[1:4]  # Exclude self\n",
    "    lookalike_results[customer_id] = list(zip(similar_customers.index, similar_customers.values))\n",
    "\n",
    "# Save results to Lookalike.csv\n",
    "lookalike_data = {\n",
    "    \"CustomerID\": list(lookalike_results.keys()),\n",
    "    \"Lookalikes\": [str(lookalike_results[cust_id]) for cust_id in lookalike_results.keys()]\n",
    "}\n",
    "lookalike_df = pd.DataFrame(lookalike_data)\n",
    "output_path = r'C:\\Users\\Harshitha\\Pictures\\Screenshots\\Data science Assignment\\Harshitha N Lookalike.csv'\n",
    "lookalike_df.to_csv(output_path, index=False)\n",
    "\n",
    "print(f\"Lookalike results saved to {output_path}\")\n"
   ]
  }
 ],
 "metadata": {
  "kernelspec": {
   "display_name": "Python 3",
   "language": "python",
   "name": "python3"
  },
  "language_info": {
   "codemirror_mode": {
    "name": "ipython",
    "version": 3
   },
   "file_extension": ".py",
   "mimetype": "text/x-python",
   "name": "python",
   "nbconvert_exporter": "python",
   "pygments_lexer": "ipython3",
   "version": "3.11.5"
  }
 },
 "nbformat": 4,
 "nbformat_minor": 2
}
